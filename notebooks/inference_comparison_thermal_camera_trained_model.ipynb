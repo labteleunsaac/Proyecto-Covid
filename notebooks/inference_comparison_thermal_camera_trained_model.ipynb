{
 "cells": [
  {
   "cell_type": "code",
   "execution_count": 8,
   "id": "2201234d",
   "metadata": {},
   "outputs": [],
   "source": [
    "import os\n",
    "from glob import glob\n",
    "import pandas as pd\n",
    "import sqlite3"
   ]
  },
  {
   "cell_type": "code",
   "execution_count": 3,
   "id": "21088c1d",
   "metadata": {},
   "outputs": [
    {
     "data": {
      "text/plain": [
       "0"
      ]
     },
     "execution_count": 3,
     "metadata": {},
     "output_type": "execute_result"
    }
   ],
   "source": [
    "# List IR images\n",
    "ir_images_filelist = glob('../nuevo_dataset/07_06_21_mask/*R*.jpg')\n",
    "len(ir_images_filelist)"
   ]
  },
  {
   "cell_type": "code",
   "execution_count": 6,
   "id": "f8a6c24b",
   "metadata": {},
   "outputs": [],
   "source": [
    "# Remove IR images\n",
    "for image in ir_images_filelist:\n",
    "    os.remove(image)"
   ]
  },
  {
   "cell_type": "code",
   "execution_count": 4,
   "id": "f52b47c8",
   "metadata": {},
   "outputs": [
    {
     "data": {
      "text/plain": [
       "140"
      ]
     },
     "execution_count": 4,
     "metadata": {},
     "output_type": "execute_result"
    }
   ],
   "source": [
    "# List images\n",
    "img_filelist = glob('../nuevo_dataset/07_06_21_mask/*.jpg')\n",
    "len(img_filelist)"
   ]
  },
  {
   "cell_type": "code",
   "execution_count": 5,
   "id": "547ffc82",
   "metadata": {},
   "outputs": [
    {
     "data": {
      "text/plain": [
       "'../../..\\\\fd_DB.db'"
      ]
     },
     "execution_count": 5,
     "metadata": {},
     "output_type": "execute_result"
    }
   ],
   "source": [
    "# Read database from thermal camera software\n",
    "db = glob('../../../*.db')[0]\n",
    "db"
   ]
  },
  {
   "cell_type": "code",
   "execution_count": 9,
   "id": "72741012",
   "metadata": {},
   "outputs": [],
   "source": [
    "cnx = sqlite3.connect(db)"
   ]
  },
  {
   "cell_type": "code",
   "execution_count": 10,
   "id": "161fa1d0",
   "metadata": {},
   "outputs": [],
   "source": [
    "df = pd.read_sql_query(\"SELECT * FROM faceinfo\", cnx)"
   ]
  },
  {
   "cell_type": "code",
   "execution_count": 11,
   "id": "071a8011",
   "metadata": {},
   "outputs": [
    {
     "data": {
      "text/html": [
       "<div>\n",
       "<style scoped>\n",
       "    .dataframe tbody tr th:only-of-type {\n",
       "        vertical-align: middle;\n",
       "    }\n",
       "\n",
       "    .dataframe tbody tr th {\n",
       "        vertical-align: top;\n",
       "    }\n",
       "\n",
       "    .dataframe thead th {\n",
       "        text-align: right;\n",
       "    }\n",
       "</style>\n",
       "<table border=\"1\" class=\"dataframe\">\n",
       "  <thead>\n",
       "    <tr style=\"text-align: right;\">\n",
       "      <th></th>\n",
       "      <th>ftemp</th>\n",
       "      <th>img_path</th>\n",
       "      <th>temp_img_path</th>\n",
       "      <th>isAlarm</th>\n",
       "      <th>isWearMask</th>\n",
       "      <th>timeStamp</th>\n",
       "    </tr>\n",
       "  </thead>\n",
       "  <tbody>\n",
       "    <tr>\n",
       "      <th>0</th>\n",
       "      <td>35.9</td>\n",
       "      <td>C:\\Users\\test\\Documents\\imagenes\\image\\2021-03...</td>\n",
       "      <td>C:\\Users\\test\\Documents\\imagenes\\image\\2021-03...</td>\n",
       "      <td>0</td>\n",
       "      <td>0</td>\n",
       "      <td>2021-03-24 09:03:34</td>\n",
       "    </tr>\n",
       "    <tr>\n",
       "      <th>1</th>\n",
       "      <td>35.9</td>\n",
       "      <td>C:\\Users\\test\\Documents\\imagenes\\image\\2021-03...</td>\n",
       "      <td>C:\\Users\\test\\Documents\\imagenes\\image\\2021-03...</td>\n",
       "      <td>0</td>\n",
       "      <td>0</td>\n",
       "      <td>2021-03-24 09:05:34</td>\n",
       "    </tr>\n",
       "    <tr>\n",
       "      <th>2</th>\n",
       "      <td>34.2</td>\n",
       "      <td>C:\\Users\\test\\Documents\\imagenes\\image\\2021-03...</td>\n",
       "      <td>C:\\Users\\test\\Documents\\imagenes\\image\\2021-03...</td>\n",
       "      <td>0</td>\n",
       "      <td>0</td>\n",
       "      <td>2021-03-24 09:05:55</td>\n",
       "    </tr>\n",
       "    <tr>\n",
       "      <th>3</th>\n",
       "      <td>37.1</td>\n",
       "      <td>C:\\Users\\test\\Documents\\imagenes\\image\\2021-03...</td>\n",
       "      <td>C:\\Users\\test\\Documents\\imagenes\\image\\2021-03...</td>\n",
       "      <td>0</td>\n",
       "      <td>1</td>\n",
       "      <td>2021-03-24 09:07:11</td>\n",
       "    </tr>\n",
       "    <tr>\n",
       "      <th>4</th>\n",
       "      <td>36.2</td>\n",
       "      <td>C:\\Users\\test\\Documents\\imagenes\\image\\2021-03...</td>\n",
       "      <td>C:\\Users\\test\\Documents\\imagenes\\image\\2021-03...</td>\n",
       "      <td>0</td>\n",
       "      <td>1</td>\n",
       "      <td>2021-03-24 09:07:39</td>\n",
       "    </tr>\n",
       "  </tbody>\n",
       "</table>\n",
       "</div>"
      ],
      "text/plain": [
       "  ftemp                                           img_path  \\\n",
       "0  35.9  C:\\Users\\test\\Documents\\imagenes\\image\\2021-03...   \n",
       "1  35.9  C:\\Users\\test\\Documents\\imagenes\\image\\2021-03...   \n",
       "2  34.2  C:\\Users\\test\\Documents\\imagenes\\image\\2021-03...   \n",
       "3  37.1  C:\\Users\\test\\Documents\\imagenes\\image\\2021-03...   \n",
       "4  36.2  C:\\Users\\test\\Documents\\imagenes\\image\\2021-03...   \n",
       "\n",
       "                                       temp_img_path  isAlarm  isWearMask  \\\n",
       "0  C:\\Users\\test\\Documents\\imagenes\\image\\2021-03...        0           0   \n",
       "1  C:\\Users\\test\\Documents\\imagenes\\image\\2021-03...        0           0   \n",
       "2  C:\\Users\\test\\Documents\\imagenes\\image\\2021-03...        0           0   \n",
       "3  C:\\Users\\test\\Documents\\imagenes\\image\\2021-03...        0           1   \n",
       "4  C:\\Users\\test\\Documents\\imagenes\\image\\2021-03...        0           1   \n",
       "\n",
       "             timeStamp  \n",
       "0  2021-03-24 09:03:34  \n",
       "1  2021-03-24 09:05:34  \n",
       "2  2021-03-24 09:05:55  \n",
       "3  2021-03-24 09:07:11  \n",
       "4  2021-03-24 09:07:39  "
      ]
     },
     "execution_count": 11,
     "metadata": {},
     "output_type": "execute_result"
    }
   ],
   "source": [
    "df.head()"
   ]
  },
  {
   "cell_type": "code",
   "execution_count": 12,
   "id": "4955eaff",
   "metadata": {},
   "outputs": [
    {
     "data": {
      "text/html": [
       "<div>\n",
       "<style scoped>\n",
       "    .dataframe tbody tr th:only-of-type {\n",
       "        vertical-align: middle;\n",
       "    }\n",
       "\n",
       "    .dataframe tbody tr th {\n",
       "        vertical-align: top;\n",
       "    }\n",
       "\n",
       "    .dataframe thead th {\n",
       "        text-align: right;\n",
       "    }\n",
       "</style>\n",
       "<table border=\"1\" class=\"dataframe\">\n",
       "  <thead>\n",
       "    <tr style=\"text-align: right;\">\n",
       "      <th></th>\n",
       "      <th>isAlarm</th>\n",
       "      <th>isWearMask</th>\n",
       "    </tr>\n",
       "  </thead>\n",
       "  <tbody>\n",
       "    <tr>\n",
       "      <th>count</th>\n",
       "      <td>9069.000000</td>\n",
       "      <td>9069.000000</td>\n",
       "    </tr>\n",
       "    <tr>\n",
       "      <th>mean</th>\n",
       "      <td>0.368177</td>\n",
       "      <td>0.819936</td>\n",
       "    </tr>\n",
       "    <tr>\n",
       "      <th>std</th>\n",
       "      <td>0.776648</td>\n",
       "      <td>0.384835</td>\n",
       "    </tr>\n",
       "    <tr>\n",
       "      <th>min</th>\n",
       "      <td>0.000000</td>\n",
       "      <td>0.000000</td>\n",
       "    </tr>\n",
       "    <tr>\n",
       "      <th>25%</th>\n",
       "      <td>0.000000</td>\n",
       "      <td>1.000000</td>\n",
       "    </tr>\n",
       "    <tr>\n",
       "      <th>50%</th>\n",
       "      <td>0.000000</td>\n",
       "      <td>1.000000</td>\n",
       "    </tr>\n",
       "    <tr>\n",
       "      <th>75%</th>\n",
       "      <td>0.000000</td>\n",
       "      <td>1.000000</td>\n",
       "    </tr>\n",
       "    <tr>\n",
       "      <th>max</th>\n",
       "      <td>3.000000</td>\n",
       "      <td>2.000000</td>\n",
       "    </tr>\n",
       "  </tbody>\n",
       "</table>\n",
       "</div>"
      ],
      "text/plain": [
       "           isAlarm   isWearMask\n",
       "count  9069.000000  9069.000000\n",
       "mean      0.368177     0.819936\n",
       "std       0.776648     0.384835\n",
       "min       0.000000     0.000000\n",
       "25%       0.000000     1.000000\n",
       "50%       0.000000     1.000000\n",
       "75%       0.000000     1.000000\n",
       "max       3.000000     2.000000"
      ]
     },
     "execution_count": 12,
     "metadata": {},
     "output_type": "execute_result"
    }
   ],
   "source": [
    "df.describe()"
   ]
  },
  {
   "cell_type": "code",
   "execution_count": 17,
   "id": "dcdedef8",
   "metadata": {},
   "outputs": [],
   "source": [
    "start_date = \"2021-06-07 00:00:00\""
   ]
  },
  {
   "cell_type": "code",
   "execution_count": 18,
   "id": "9cc06c72",
   "metadata": {},
   "outputs": [],
   "source": [
    "filtered_df = df.loc[df['timeStamp'] > start_date]"
   ]
  },
  {
   "cell_type": "code",
   "execution_count": 20,
   "id": "133ace5d",
   "metadata": {},
   "outputs": [
    {
     "data": {
      "text/html": [
       "<div>\n",
       "<style scoped>\n",
       "    .dataframe tbody tr th:only-of-type {\n",
       "        vertical-align: middle;\n",
       "    }\n",
       "\n",
       "    .dataframe tbody tr th {\n",
       "        vertical-align: top;\n",
       "    }\n",
       "\n",
       "    .dataframe thead th {\n",
       "        text-align: right;\n",
       "    }\n",
       "</style>\n",
       "<table border=\"1\" class=\"dataframe\">\n",
       "  <thead>\n",
       "    <tr style=\"text-align: right;\">\n",
       "      <th></th>\n",
       "      <th>isAlarm</th>\n",
       "      <th>isWearMask</th>\n",
       "    </tr>\n",
       "  </thead>\n",
       "  <tbody>\n",
       "    <tr>\n",
       "      <th>count</th>\n",
       "      <td>1937.000000</td>\n",
       "      <td>1937.000000</td>\n",
       "    </tr>\n",
       "    <tr>\n",
       "      <th>mean</th>\n",
       "      <td>0.267940</td>\n",
       "      <td>0.870934</td>\n",
       "    </tr>\n",
       "    <tr>\n",
       "      <th>std</th>\n",
       "      <td>0.677997</td>\n",
       "      <td>0.336896</td>\n",
       "    </tr>\n",
       "    <tr>\n",
       "      <th>min</th>\n",
       "      <td>0.000000</td>\n",
       "      <td>0.000000</td>\n",
       "    </tr>\n",
       "    <tr>\n",
       "      <th>25%</th>\n",
       "      <td>0.000000</td>\n",
       "      <td>1.000000</td>\n",
       "    </tr>\n",
       "    <tr>\n",
       "      <th>50%</th>\n",
       "      <td>0.000000</td>\n",
       "      <td>1.000000</td>\n",
       "    </tr>\n",
       "    <tr>\n",
       "      <th>75%</th>\n",
       "      <td>0.000000</td>\n",
       "      <td>1.000000</td>\n",
       "    </tr>\n",
       "    <tr>\n",
       "      <th>max</th>\n",
       "      <td>3.000000</td>\n",
       "      <td>2.000000</td>\n",
       "    </tr>\n",
       "  </tbody>\n",
       "</table>\n",
       "</div>"
      ],
      "text/plain": [
       "           isAlarm   isWearMask\n",
       "count  1937.000000  1937.000000\n",
       "mean      0.267940     0.870934\n",
       "std       0.677997     0.336896\n",
       "min       0.000000     0.000000\n",
       "25%       0.000000     1.000000\n",
       "50%       0.000000     1.000000\n",
       "75%       0.000000     1.000000\n",
       "max       3.000000     2.000000"
      ]
     },
     "execution_count": 20,
     "metadata": {},
     "output_type": "execute_result"
    }
   ],
   "source": [
    "filtered_df.describe()"
   ]
  },
  {
   "cell_type": "code",
   "execution_count": 21,
   "id": "ad6cee97",
   "metadata": {},
   "outputs": [],
   "source": [
    "final_date = \"2021-06-08 00:00:00\""
   ]
  },
  {
   "cell_type": "code",
   "execution_count": 22,
   "id": "5e7ad1f1",
   "metadata": {},
   "outputs": [],
   "source": [
    "filtered_df = filtered_df.loc[filtered_df['timeStamp'] < final_date]"
   ]
  },
  {
   "cell_type": "code",
   "execution_count": 23,
   "id": "1d022433",
   "metadata": {},
   "outputs": [
    {
     "data": {
      "text/html": [
       "<div>\n",
       "<style scoped>\n",
       "    .dataframe tbody tr th:only-of-type {\n",
       "        vertical-align: middle;\n",
       "    }\n",
       "\n",
       "    .dataframe tbody tr th {\n",
       "        vertical-align: top;\n",
       "    }\n",
       "\n",
       "    .dataframe thead th {\n",
       "        text-align: right;\n",
       "    }\n",
       "</style>\n",
       "<table border=\"1\" class=\"dataframe\">\n",
       "  <thead>\n",
       "    <tr style=\"text-align: right;\">\n",
       "      <th></th>\n",
       "      <th>isAlarm</th>\n",
       "      <th>isWearMask</th>\n",
       "    </tr>\n",
       "  </thead>\n",
       "  <tbody>\n",
       "    <tr>\n",
       "      <th>count</th>\n",
       "      <td>140.000000</td>\n",
       "      <td>140.000000</td>\n",
       "    </tr>\n",
       "    <tr>\n",
       "      <th>mean</th>\n",
       "      <td>0.257143</td>\n",
       "      <td>0.871429</td>\n",
       "    </tr>\n",
       "    <tr>\n",
       "      <th>std</th>\n",
       "      <td>0.671854</td>\n",
       "      <td>0.335927</td>\n",
       "    </tr>\n",
       "    <tr>\n",
       "      <th>min</th>\n",
       "      <td>0.000000</td>\n",
       "      <td>0.000000</td>\n",
       "    </tr>\n",
       "    <tr>\n",
       "      <th>25%</th>\n",
       "      <td>0.000000</td>\n",
       "      <td>1.000000</td>\n",
       "    </tr>\n",
       "    <tr>\n",
       "      <th>50%</th>\n",
       "      <td>0.000000</td>\n",
       "      <td>1.000000</td>\n",
       "    </tr>\n",
       "    <tr>\n",
       "      <th>75%</th>\n",
       "      <td>0.000000</td>\n",
       "      <td>1.000000</td>\n",
       "    </tr>\n",
       "    <tr>\n",
       "      <th>max</th>\n",
       "      <td>2.000000</td>\n",
       "      <td>1.000000</td>\n",
       "    </tr>\n",
       "  </tbody>\n",
       "</table>\n",
       "</div>"
      ],
      "text/plain": [
       "          isAlarm  isWearMask\n",
       "count  140.000000  140.000000\n",
       "mean     0.257143    0.871429\n",
       "std      0.671854    0.335927\n",
       "min      0.000000    0.000000\n",
       "25%      0.000000    1.000000\n",
       "50%      0.000000    1.000000\n",
       "75%      0.000000    1.000000\n",
       "max      2.000000    1.000000"
      ]
     },
     "execution_count": 23,
     "metadata": {},
     "output_type": "execute_result"
    }
   ],
   "source": [
    "filtered_df.describe()"
   ]
  },
  {
   "cell_type": "code",
   "execution_count": 47,
   "id": "a7cdb551",
   "metadata": {},
   "outputs": [
    {
     "data": {
      "text/plain": [
       "array(['C:\\\\Users\\\\test\\\\Documents\\\\imagenes\\\\image\\\\2021-06-07\\\\00.00~10.59\\\\tmp\\\\09-59-43_P_0_37.1.jpg',\n",
       "       'C:\\\\Users\\\\test\\\\Documents\\\\imagenes\\\\image\\\\2021-06-07\\\\00.00~10.59\\\\tmp\\\\10-00-25_P_0_40.5.jpg',\n",
       "       'C:\\\\Users\\\\test\\\\Documents\\\\imagenes\\\\image\\\\2021-06-07\\\\00.00~10.59\\\\tmp\\\\10-02-59_P_0_34.8.jpg',\n",
       "       'C:\\\\Users\\\\test\\\\Documents\\\\imagenes\\\\image\\\\2021-06-07\\\\00.00~10.59\\\\tmp\\\\10-03-17_P_0_33.9.jpg',\n",
       "       'C:\\\\Users\\\\test\\\\Documents\\\\imagenes\\\\image\\\\2021-06-07\\\\00.00~10.59\\\\tmp\\\\10-10-08_P_0_35.6.jpg',\n",
       "       'C:\\\\Users\\\\test\\\\Documents\\\\imagenes\\\\image\\\\2021-06-07\\\\00.00~10.59\\\\tmp\\\\10-13-31_P_0_33.2.jpg',\n",
       "       'C:\\\\Users\\\\test\\\\Documents\\\\imagenes\\\\image\\\\2021-06-07\\\\00.00~10.59\\\\tmp\\\\10-38-15_P_0_34.3.jpg',\n",
       "       'C:\\\\Users\\\\test\\\\Documents\\\\imagenes\\\\image\\\\2021-06-07\\\\00.00~10.59\\\\tmp\\\\10-48-51_P_0_34.4.jpg',\n",
       "       'C:\\\\Users\\\\test\\\\Documents\\\\imagenes\\\\image\\\\2021-06-07\\\\00.00~10.59\\\\tmp\\\\10-59-22_P_0_36.4.jpg',\n",
       "       'C:\\\\Users\\\\test\\\\Documents\\\\imagenes\\\\image\\\\2021-06-07\\\\11.00~14.59\\\\tmp\\\\11-20-50_P_0_33.1.jpg',\n",
       "       'C:\\\\Users\\\\test\\\\Documents\\\\imagenes\\\\image\\\\2021-06-07\\\\11.00~14.59\\\\tmp\\\\11-23-01_P_0_36.4.jpg',\n",
       "       'C:\\\\Users\\\\test\\\\Documents\\\\imagenes\\\\image\\\\2021-06-07\\\\11.00~14.59\\\\tmp\\\\11-25-22_P_0_36.3.jpg',\n",
       "       'C:\\\\Users\\\\test\\\\Documents\\\\imagenes\\\\image\\\\2021-06-07\\\\11.00~14.59\\\\tmp\\\\12-03-23_P_0_35.5.jpg',\n",
       "       'C:\\\\Users\\\\test\\\\Documents\\\\imagenes\\\\image\\\\2021-06-07\\\\11.00~14.59\\\\tmp\\\\12-24-55_P_0_34.9.jpg',\n",
       "       'C:\\\\Users\\\\test\\\\Documents\\\\imagenes\\\\image\\\\2021-06-07\\\\11.00~14.59\\\\tmp\\\\12-25-37_P_0_36.6.jpg',\n",
       "       'C:\\\\Users\\\\test\\\\Documents\\\\imagenes\\\\image\\\\2021-06-07\\\\11.00~14.59\\\\tmp\\\\12-28-58_P_0_36.2.jpg',\n",
       "       'C:\\\\Users\\\\test\\\\Documents\\\\imagenes\\\\image\\\\2021-06-07\\\\11.00~14.59\\\\tmp\\\\12-30-24_P_0_36.1.jpg',\n",
       "       'C:\\\\Users\\\\test\\\\Documents\\\\imagenes\\\\image\\\\2021-06-07\\\\11.00~14.59\\\\tmp\\\\12-30-58_P_0_36.6.jpg'],\n",
       "      dtype=object)"
      ]
     },
     "execution_count": 47,
     "metadata": {},
     "output_type": "execute_result"
    }
   ],
   "source": [
    "filtered_df.loc[filtered_df.isWearMask==0].img_path.values"
   ]
  },
  {
   "cell_type": "code",
   "execution_count": 32,
   "id": "64e3860d",
   "metadata": {},
   "outputs": [],
   "source": [
    "import tensorflow as tf\n",
    "from tensorflow import keras\n",
    "from time import time\n",
    "import numpy as np"
   ]
  },
  {
   "cell_type": "code",
   "execution_count": 34,
   "id": "75410d66",
   "metadata": {},
   "outputs": [],
   "source": [
    "# Define some parameters\n",
    "dim = (160, 160)"
   ]
  },
  {
   "cell_type": "code",
   "execution_count": 36,
   "id": "180f47c7",
   "metadata": {},
   "outputs": [],
   "source": [
    "# Load TF model\n",
    "new_model = tf.keras.models.load_model('../models/keras_tuner.h5')"
   ]
  },
  {
   "cell_type": "code",
   "execution_count": 64,
   "id": "30b6bf1a",
   "metadata": {},
   "outputs": [
    {
     "name": "stdout",
     "output_type": "stream",
     "text": [
      "label: 0, prediction:0, time(s): 0.0660855770111084\n",
      "../nuevo_dataset/07_06_21_mask\\06-23-32_P_0_34.8.jpg\n",
      "label: 0, prediction:1, time(s): 0.05336499214172363\n",
      "label: 0, prediction:0, time(s): 0.05596208572387695\n",
      "../nuevo_dataset/07_06_21_mask\\09-58-04_P_0_36.6.jpg\n",
      "label: 0, prediction:1, time(s): 0.05183005332946777\n",
      "label: 0, prediction:0, time(s): 0.052983999252319336\n",
      "label: 0, prediction:0, time(s): 0.05803966522216797\n",
      "../nuevo_dataset/07_06_21_mask\\09-59-43_P_0_37.1.jpg\n",
      "label: 0, prediction:1, time(s): 0.059682607650756836\n",
      "label: 0, prediction:0, time(s): 0.05384111404418945\n",
      "label: 0, prediction:0, time(s): 0.058287620544433594\n",
      "label: 0, prediction:0, time(s): 0.055249929428100586\n",
      "label: 0, prediction:0, time(s): 0.052680253982543945\n",
      "label: 0, prediction:0, time(s): 0.05285787582397461\n",
      "label: 0, prediction:0, time(s): 0.05748915672302246\n",
      "label: 0, prediction:0, time(s): 0.056612253189086914\n",
      "label: 0, prediction:0, time(s): 0.05149364471435547\n",
      "label: 0, prediction:0, time(s): 0.05348086357116699\n",
      "label: 0, prediction:0, time(s): 0.050667524337768555\n",
      "label: 0, prediction:0, time(s): 0.06694841384887695\n",
      "label: 0, prediction:0, time(s): 0.05439877510070801\n",
      "label: 0, prediction:0, time(s): 0.23422694206237793\n",
      "label: 0, prediction:0, time(s): 0.05577802658081055\n",
      "label: 0, prediction:0, time(s): 0.05469179153442383\n",
      "label: 0, prediction:0, time(s): 0.05866861343383789\n",
      "label: 0, prediction:0, time(s): 0.053646087646484375\n",
      "label: 0, prediction:0, time(s): 0.0566561222076416\n",
      "label: 0, prediction:0, time(s): 0.054323434829711914\n",
      "label: 0, prediction:0, time(s): 0.06002688407897949\n",
      "label: 0, prediction:0, time(s): 0.0578465461730957\n",
      "label: 0, prediction:0, time(s): 0.0577540397644043\n",
      "label: 0, prediction:0, time(s): 0.05353808403015137\n",
      "../nuevo_dataset/07_06_21_mask\\10-37-29_P_0_35.6.jpg\n",
      "label: 0, prediction:1, time(s): 0.052201271057128906\n",
      "label: 0, prediction:0, time(s): 0.05567121505737305\n",
      "../nuevo_dataset/07_06_21_mask\\10-38-15_P_0_34.3.jpg\n",
      "label: 0, prediction:1, time(s): 0.05872321128845215\n",
      "label: 0, prediction:0, time(s): 0.05310320854187012\n",
      "label: 0, prediction:0, time(s): 0.05506396293640137\n",
      "label: 0, prediction:0, time(s): 0.05729389190673828\n",
      "label: 0, prediction:0, time(s): 0.05497431755065918\n",
      "label: 0, prediction:0, time(s): 0.0588071346282959\n",
      "../nuevo_dataset/07_06_21_mask\\10-48-51_P_0_34.4.jpg\n",
      "label: 0, prediction:1, time(s): 0.05984091758728027\n",
      "label: 0, prediction:0, time(s): 0.05783987045288086\n",
      "label: 0, prediction:0, time(s): 0.055449485778808594\n",
      "label: 0, prediction:0, time(s): 0.05459737777709961\n",
      "../nuevo_dataset/07_06_21_mask\\10-54-29_P_0_36.9.jpg\n",
      "label: 0, prediction:1, time(s): 0.051999807357788086\n",
      "label: 0, prediction:0, time(s): 0.05286097526550293\n",
      "../nuevo_dataset/07_06_21_mask\\10-59-22_P_0_36.4.jpg\n",
      "label: 0, prediction:1, time(s): 0.05452895164489746\n",
      "label: 0, prediction:0, time(s): 0.05476999282836914\n",
      "../nuevo_dataset/07_06_21_mask\\11-04-01_P_0_34.7.jpg\n",
      "label: 0, prediction:1, time(s): 0.05182337760925293\n",
      "label: 0, prediction:0, time(s): 0.0577394962310791\n",
      "label: 0, prediction:0, time(s): 0.055489301681518555\n",
      "label: 0, prediction:0, time(s): 0.05131840705871582\n",
      "../nuevo_dataset/07_06_21_mask\\11-07-28_P_0_35.2.jpg\n",
      "label: 0, prediction:1, time(s): 0.0516657829284668\n",
      "label: 0, prediction:0, time(s): 0.05485677719116211\n",
      "label: 0, prediction:0, time(s): 0.05681896209716797\n",
      "label: 0, prediction:0, time(s): 0.05140328407287598\n",
      "label: 0, prediction:0, time(s): 0.05299258232116699\n",
      "label: 0, prediction:0, time(s): 0.053488969802856445\n",
      "label: 0, prediction:0, time(s): 0.055951595306396484\n",
      "label: 0, prediction:0, time(s): 0.05287981033325195\n",
      "label: 0, prediction:0, time(s): 0.054441213607788086\n",
      "label: 0, prediction:0, time(s): 0.05151772499084473\n",
      "label: 0, prediction:0, time(s): 0.05195307731628418\n",
      "label: 0, prediction:0, time(s): 0.05800127983093262\n",
      "label: 0, prediction:0, time(s): 0.05236959457397461\n",
      "label: 0, prediction:0, time(s): 0.05622267723083496\n",
      "../nuevo_dataset/07_06_21_mask\\11-19-11_P_0_35.6.jpg\n",
      "label: 0, prediction:1, time(s): 0.054151058197021484\n",
      "label: 0, prediction:0, time(s): 0.05417895317077637\n",
      "label: 0, prediction:0, time(s): 0.05196833610534668\n",
      "label: 0, prediction:0, time(s): 0.05410623550415039\n",
      "label: 0, prediction:0, time(s): 0.05393671989440918\n",
      "../nuevo_dataset/07_06_21_mask\\11-22-52_P_0_42.3.jpg\n",
      "label: 0, prediction:1, time(s): 0.05283784866333008\n",
      "../nuevo_dataset/07_06_21_mask\\11-23-01_P_0_36.4.jpg\n",
      "label: 0, prediction:1, time(s): 0.05613231658935547\n",
      "label: 0, prediction:0, time(s): 0.05285501480102539\n",
      "label: 0, prediction:0, time(s): 0.05433034896850586\n",
      "label: 0, prediction:0, time(s): 0.053526878356933594\n",
      "label: 0, prediction:0, time(s): 0.05700397491455078\n",
      "label: 0, prediction:0, time(s): 0.054184675216674805\n",
      "label: 0, prediction:0, time(s): 0.05356121063232422\n",
      "label: 0, prediction:0, time(s): 0.05503368377685547\n",
      "label: 0, prediction:0, time(s): 0.06081795692443848\n",
      "label: 0, prediction:0, time(s): 0.053481101989746094\n",
      "label: 0, prediction:0, time(s): 0.0546417236328125\n",
      "label: 0, prediction:0, time(s): 0.05973362922668457\n",
      "label: 0, prediction:0, time(s): 0.05595803260803223\n",
      "label: 0, prediction:0, time(s): 0.05390167236328125\n",
      "label: 0, prediction:0, time(s): 0.05841684341430664\n",
      "label: 0, prediction:0, time(s): 0.05474853515625\n",
      "label: 0, prediction:0, time(s): 0.05646967887878418\n",
      "label: 0, prediction:0, time(s): 0.056432485580444336\n",
      "label: 0, prediction:0, time(s): 0.05459785461425781\n",
      "label: 0, prediction:0, time(s): 0.05599403381347656\n",
      "label: 0, prediction:0, time(s): 0.05644583702087402\n",
      "label: 0, prediction:0, time(s): 0.05483889579772949\n",
      "label: 0, prediction:0, time(s): 0.05247688293457031\n",
      "label: 0, prediction:0, time(s): 0.056815147399902344\n",
      "label: 0, prediction:0, time(s): 0.056807518005371094\n",
      "label: 0, prediction:0, time(s): 0.05331778526306152\n",
      "label: 0, prediction:0, time(s): 0.053719520568847656\n",
      "label: 0, prediction:0, time(s): 0.05749368667602539\n",
      "label: 0, prediction:0, time(s): 0.055708885192871094\n",
      "label: 0, prediction:0, time(s): 0.05886435508728027\n",
      "label: 0, prediction:0, time(s): 0.054883718490600586\n",
      "label: 0, prediction:0, time(s): 0.056949615478515625\n",
      "label: 0, prediction:0, time(s): 0.05473041534423828\n",
      "label: 0, prediction:0, time(s): 0.05194687843322754\n",
      "label: 0, prediction:0, time(s): 0.05344247817993164\n",
      "label: 0, prediction:0, time(s): 0.05363869667053223\n",
      "label: 0, prediction:0, time(s): 0.05620288848876953\n",
      "label: 0, prediction:0, time(s): 0.05596137046813965\n",
      "label: 0, prediction:0, time(s): 0.05413556098937988\n",
      "label: 0, prediction:0, time(s): 0.05586862564086914\n",
      "label: 0, prediction:0, time(s): 0.05635714530944824\n",
      "label: 0, prediction:0, time(s): 0.05486273765563965\n",
      "label: 0, prediction:0, time(s): 0.05400276184082031\n",
      "label: 0, prediction:0, time(s): 0.058481454849243164\n",
      "label: 0, prediction:0, time(s): 0.05715012550354004\n",
      "label: 0, prediction:0, time(s): 0.05468034744262695\n",
      "label: 0, prediction:0, time(s): 0.05340218544006348\n",
      "label: 0, prediction:0, time(s): 0.0550389289855957\n",
      "label: 0, prediction:0, time(s): 0.05503559112548828\n",
      "label: 0, prediction:0, time(s): 0.05385565757751465\n",
      "label: 0, prediction:0, time(s): 0.05588245391845703\n",
      "label: 0, prediction:0, time(s): 0.05581927299499512\n",
      "label: 0, prediction:0, time(s): 0.05404186248779297\n",
      "label: 0, prediction:0, time(s): 0.052512168884277344\n",
      "label: 0, prediction:0, time(s): 0.057111263275146484\n",
      "label: 0, prediction:0, time(s): 0.05501914024353027\n",
      "label: 0, prediction:0, time(s): 0.05550432205200195\n",
      "label: 0, prediction:0, time(s): 0.05816316604614258\n",
      "label: 0, prediction:0, time(s): 0.05242609977722168\n",
      "label: 0, prediction:0, time(s): 0.05784463882446289\n",
      "label: 0, prediction:0, time(s): 0.05684924125671387\n",
      "label: 0, prediction:0, time(s): 0.05485224723815918\n",
      "label: 0, prediction:0, time(s): 0.05285835266113281\n",
      "label: 0, prediction:0, time(s): 0.05585050582885742\n",
      "label: 0, prediction:0, time(s): 0.05388498306274414\n",
      "label: 0, prediction:0, time(s): 0.05534076690673828\n",
      "label: 0, prediction:0, time(s): 0.05389404296875\n",
      "label: 0, prediction:0, time(s): 0.06080174446105957\n",
      "label: 0, prediction:0, time(s): 0.059841156005859375\n",
      "label: 0, prediction:0, time(s): 0.05478096008300781\n",
      "13\n"
     ]
    }
   ],
   "source": [
    "# Make predictions\n",
    "label = 0\n",
    "counter = 0\n",
    "for file in img_filelist:\n",
    "    tic=time()\n",
    "    image=keras.preprocessing.image.load_img(file, target_size=dim)\n",
    "    img_array = keras.preprocessing.image.img_to_array(image)\n",
    "    img_array = tf.expand_dims(img_array, 0)\n",
    "    predictions = np.squeeze(np.rint(new_model.predict(img_array))).astype('int')\n",
    "    counter+=predictions\n",
    "    if predictions==1:\n",
    "        print(file)\n",
    "    toc=time()-tic\n",
    "    print(\"label: {}, prediction:{}, time(s): {}\". format(label, predictions, toc))\n",
    "print(counter)"
   ]
  },
  {
   "cell_type": "code",
   "execution_count": 54,
   "id": "eeca623e",
   "metadata": {},
   "outputs": [],
   "source": [
    "path = os.path.dirname(img_filelist[0])"
   ]
  },
  {
   "cell_type": "code",
   "execution_count": 49,
   "id": "6889dc8f",
   "metadata": {},
   "outputs": [],
   "source": [
    "failed_preds = filtered_df.loc[filtered_df.isWearMask==0].img_path.values"
   ]
  },
  {
   "cell_type": "code",
   "execution_count": 57,
   "id": "67d68f1a",
   "metadata": {},
   "outputs": [
    {
     "name": "stdout",
     "output_type": "stream",
     "text": [
      "label: 0, prediction:1, time(s): 0.0638284683227539\n",
      "label: 0, prediction:0, time(s): 0.0638284683227539\n",
      "label: 0, prediction:0, time(s): 0.0638284683227539\n",
      "label: 0, prediction:0, time(s): 0.0638284683227539\n",
      "label: 0, prediction:0, time(s): 0.0638284683227539\n",
      "label: 0, prediction:0, time(s): 0.0638284683227539\n",
      "label: 0, prediction:1, time(s): 0.0638284683227539\n",
      "label: 0, prediction:1, time(s): 0.0638284683227539\n",
      "label: 0, prediction:1, time(s): 0.0638284683227539\n",
      "label: 0, prediction:0, time(s): 0.0638284683227539\n",
      "label: 0, prediction:1, time(s): 0.0638284683227539\n",
      "label: 0, prediction:0, time(s): 0.0638284683227539\n",
      "label: 0, prediction:0, time(s): 0.0638284683227539\n",
      "label: 0, prediction:0, time(s): 0.0638284683227539\n",
      "label: 0, prediction:0, time(s): 0.0638284683227539\n",
      "label: 0, prediction:0, time(s): 0.0638284683227539\n",
      "label: 0, prediction:0, time(s): 0.0638284683227539\n",
      "label: 0, prediction:0, time(s): 0.0638284683227539\n",
      "5\n"
     ]
    }
   ],
   "source": [
    "counter=0\n",
    "for file in failed_preds:\n",
    "#     print(os.path.join(path,os.path.basename(file)))\n",
    "    image=keras.preprocessing.image.load_img(os.path.join(path,os.path.basename(file)), target_size=dim)\n",
    "    img_array = keras.preprocessing.image.img_to_array(image)\n",
    "    img_array = tf.expand_dims(img_array, 0)\n",
    "    predictions = np.squeeze(np.rint(new_model.predict(img_array))).astype('int')\n",
    "    print(\"label: {}, prediction:{}, time(s): {}\". format(label, predictions, toc))\n",
    "    counter+=predictions\n",
    "print(counter)"
   ]
  },
  {
   "cell_type": "code",
   "execution_count": 61,
   "id": "ceb60eb0",
   "metadata": {},
   "outputs": [
    {
     "data": {
      "text/plain": [
       "90.71428571428571"
      ]
     },
     "execution_count": 61,
     "metadata": {},
     "output_type": "execute_result"
    }
   ],
   "source": [
    "100-counter/len(img_filelist)*100"
   ]
  },
  {
   "cell_type": "code",
   "execution_count": 63,
   "id": "37dbfbda",
   "metadata": {},
   "outputs": [
    {
     "data": {
      "text/plain": [
       "87.14285714285714"
      ]
     },
     "execution_count": 63,
     "metadata": {},
     "output_type": "execute_result"
    }
   ],
   "source": [
    "100-len(filtered_df.loc[filtered_df.isWearMask==0].img_path.values)/len(img_filelist)*100"
   ]
  },
  {
   "cell_type": "code",
   "execution_count": null,
   "id": "3aee7b7e",
   "metadata": {},
   "outputs": [],
   "source": []
  }
 ],
 "metadata": {
  "kernelspec": {
   "display_name": "Python 3",
   "language": "python",
   "name": "python3"
  },
  "language_info": {
   "codemirror_mode": {
    "name": "ipython",
    "version": 3
   },
   "file_extension": ".py",
   "mimetype": "text/x-python",
   "name": "python",
   "nbconvert_exporter": "python",
   "pygments_lexer": "ipython3",
   "version": "3.8.8"
  }
 },
 "nbformat": 4,
 "nbformat_minor": 5
}
