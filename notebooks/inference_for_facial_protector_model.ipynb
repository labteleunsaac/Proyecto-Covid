{
 "cells": [
  {
   "cell_type": "code",
   "execution_count": 1,
   "id": "2201234d",
   "metadata": {},
   "outputs": [],
   "source": [
    "import os\n",
    "from glob import glob\n",
    "import pandas as pd\n",
    "import sqlite3"
   ]
  },
  {
   "cell_type": "code",
   "execution_count": 18,
   "id": "07842d80",
   "metadata": {},
   "outputs": [
    {
     "data": {
      "text/plain": [
       "295"
      ]
     },
     "execution_count": 18,
     "metadata": {},
     "output_type": "execute_result"
    }
   ],
   "source": [
    "# List IR images\n",
    "ir_images_filelist = glob('../14_06_21_facial/*R*.jpg')\n",
    "len(ir_images_filelist)"
   ]
  },
  {
   "cell_type": "code",
   "execution_count": 19,
   "id": "a6b681c7",
   "metadata": {},
   "outputs": [],
   "source": [
    "# Remove IR images\n",
    "for image in ir_images_filelist:\n",
    "    os.remove(image)"
   ]
  },
  {
   "cell_type": "code",
   "execution_count": 29,
   "id": "f52b47c8",
   "metadata": {},
   "outputs": [
    {
     "data": {
      "text/plain": [
       "51"
      ]
     },
     "execution_count": 29,
     "metadata": {},
     "output_type": "execute_result"
    }
   ],
   "source": [
    "# List images\n",
    "img_filelist = glob('../dataset_14_06_2021/with_facial/*.jpg')\n",
    "len(img_filelist)"
   ]
  },
  {
   "cell_type": "code",
   "execution_count": 3,
   "id": "64e3860d",
   "metadata": {},
   "outputs": [],
   "source": [
    "import tensorflow as tf\n",
    "from tensorflow import keras\n",
    "from time import time\n",
    "import numpy as np"
   ]
  },
  {
   "cell_type": "code",
   "execution_count": 4,
   "id": "75410d66",
   "metadata": {},
   "outputs": [],
   "source": [
    "# Define some parameters\n",
    "dim = (160, 160)"
   ]
  },
  {
   "cell_type": "code",
   "execution_count": 10,
   "id": "180f47c7",
   "metadata": {},
   "outputs": [],
   "source": [
    "# Load TF model\n",
    "new_model = tf.keras.models.load_model('../models/facial_8_0.001_50_tmp.model')"
   ]
  },
  {
   "cell_type": "code",
   "execution_count": 31,
   "id": "30b6bf1a",
   "metadata": {},
   "outputs": [
    {
     "name": "stdout",
     "output_type": "stream",
     "text": [
      "label: 0, prediction:0, time(s): 0.06436824798583984\n",
      "label: 0, prediction:0, time(s): 0.05861353874206543\n",
      "label: 0, prediction:0, time(s): 0.05319619178771973\n",
      "label: 0, prediction:0, time(s): 0.05151844024658203\n",
      "label: 0, prediction:0, time(s): 0.05617713928222656\n",
      "label: 0, prediction:0, time(s): 0.05946493148803711\n",
      "label: 0, prediction:0, time(s): 0.05486297607421875\n",
      "label: 0, prediction:0, time(s): 0.05368471145629883\n",
      "label: 0, prediction:0, time(s): 0.05485796928405762\n",
      "label: 0, prediction:0, time(s): 0.0539705753326416\n",
      "label: 0, prediction:0, time(s): 0.05566859245300293\n",
      "label: 0, prediction:0, time(s): 0.0532374382019043\n",
      "label: 0, prediction:0, time(s): 0.05280756950378418\n",
      "label: 0, prediction:0, time(s): 0.05755019187927246\n",
      "label: 0, prediction:0, time(s): 0.05834555625915527\n",
      "label: 0, prediction:0, time(s): 0.05363631248474121\n",
      "label: 0, prediction:0, time(s): 0.05434560775756836\n",
      "label: 0, prediction:0, time(s): 0.061270713806152344\n",
      "label: 0, prediction:0, time(s): 0.05500459671020508\n",
      "label: 0, prediction:0, time(s): 0.05409669876098633\n",
      "label: 0, prediction:0, time(s): 0.060869455337524414\n",
      "label: 0, prediction:0, time(s): 0.0556640625\n",
      "label: 0, prediction:0, time(s): 0.05328083038330078\n",
      "label: 0, prediction:0, time(s): 0.05410194396972656\n",
      "label: 0, prediction:0, time(s): 0.05573272705078125\n",
      "label: 0, prediction:0, time(s): 0.055094003677368164\n",
      "label: 0, prediction:0, time(s): 0.05271148681640625\n",
      "label: 0, prediction:0, time(s): 0.053841352462768555\n",
      "label: 0, prediction:0, time(s): 0.05200004577636719\n",
      "label: 0, prediction:0, time(s): 0.05878257751464844\n",
      "label: 0, prediction:0, time(s): 0.056197404861450195\n",
      "label: 0, prediction:0, time(s): 0.05448579788208008\n",
      "label: 0, prediction:0, time(s): 0.05486416816711426\n",
      "label: 0, prediction:0, time(s): 0.05645632743835449\n",
      "label: 0, prediction:0, time(s): 0.05580878257751465\n",
      "label: 0, prediction:0, time(s): 0.05221080780029297\n",
      "label: 0, prediction:0, time(s): 0.0518651008605957\n",
      "label: 0, prediction:0, time(s): 0.05414605140686035\n",
      "label: 0, prediction:0, time(s): 0.057824134826660156\n",
      "label: 0, prediction:0, time(s): 0.059525251388549805\n",
      "label: 0, prediction:0, time(s): 0.05902242660522461\n",
      "label: 0, prediction:0, time(s): 0.06144595146179199\n",
      "../dataset_14_06_2021/with_facial\\12-04-56_P_0_35.7.jpg\n",
      "label: 0, prediction:1, time(s): 0.05673527717590332\n",
      "label: 0, prediction:0, time(s): 0.05387067794799805\n",
      "label: 0, prediction:0, time(s): 0.05394625663757324\n",
      "label: 0, prediction:0, time(s): 0.05520486831665039\n",
      "label: 0, prediction:0, time(s): 0.05803966522216797\n",
      "label: 0, prediction:0, time(s): 0.057891845703125\n",
      "label: 0, prediction:0, time(s): 0.056768178939819336\n",
      "label: 0, prediction:0, time(s): 0.054242849349975586\n",
      "label: 0, prediction:0, time(s): 0.05687737464904785\n",
      "1\n"
     ]
    }
   ],
   "source": [
    "# Make predictions\n",
    "label = 0\n",
    "counter = 0\n",
    "for file in img_filelist:\n",
    "    tic=time()\n",
    "    image=keras.preprocessing.image.load_img(file, target_size=dim)\n",
    "    img_array = keras.preprocessing.image.img_to_array(image)\n",
    "    img_array = tf.expand_dims(img_array, 0)\n",
    "    predictions = np.squeeze(np.rint(new_model.predict(img_array))).astype('int')\n",
    "    counter+=predictions\n",
    "    if predictions==1:\n",
    "        print(file)\n",
    "    toc=time()-tic\n",
    "    print(\"label: {}, prediction:{}, time(s): {}\". format(label, predictions, toc))\n",
    "print(counter)"
   ]
  },
  {
   "cell_type": "code",
   "execution_count": 54,
   "id": "eeca623e",
   "metadata": {},
   "outputs": [],
   "source": [
    "path = os.path.dirname(img_filelist[0])"
   ]
  },
  {
   "cell_type": "code",
   "execution_count": 49,
   "id": "6889dc8f",
   "metadata": {},
   "outputs": [],
   "source": [
    "failed_preds = filtered_df.loc[filtered_df.isWearMask==0].img_path.values"
   ]
  },
  {
   "cell_type": "code",
   "execution_count": 57,
   "id": "67d68f1a",
   "metadata": {},
   "outputs": [
    {
     "name": "stdout",
     "output_type": "stream",
     "text": [
      "label: 0, prediction:1, time(s): 0.0638284683227539\n",
      "label: 0, prediction:0, time(s): 0.0638284683227539\n",
      "label: 0, prediction:0, time(s): 0.0638284683227539\n",
      "label: 0, prediction:0, time(s): 0.0638284683227539\n",
      "label: 0, prediction:0, time(s): 0.0638284683227539\n",
      "label: 0, prediction:0, time(s): 0.0638284683227539\n",
      "label: 0, prediction:1, time(s): 0.0638284683227539\n",
      "label: 0, prediction:1, time(s): 0.0638284683227539\n",
      "label: 0, prediction:1, time(s): 0.0638284683227539\n",
      "label: 0, prediction:0, time(s): 0.0638284683227539\n",
      "label: 0, prediction:1, time(s): 0.0638284683227539\n",
      "label: 0, prediction:0, time(s): 0.0638284683227539\n",
      "label: 0, prediction:0, time(s): 0.0638284683227539\n",
      "label: 0, prediction:0, time(s): 0.0638284683227539\n",
      "label: 0, prediction:0, time(s): 0.0638284683227539\n",
      "label: 0, prediction:0, time(s): 0.0638284683227539\n",
      "label: 0, prediction:0, time(s): 0.0638284683227539\n",
      "label: 0, prediction:0, time(s): 0.0638284683227539\n",
      "5\n"
     ]
    }
   ],
   "source": [
    "counter=0\n",
    "for file in failed_preds:\n",
    "#     print(os.path.join(path,os.path.basename(file)))\n",
    "    image=keras.preprocessing.image.load_img(os.path.join(path,os.path.basename(file)), target_size=dim)\n",
    "    img_array = keras.preprocessing.image.img_to_array(image)\n",
    "    img_array = tf.expand_dims(img_array, 0)\n",
    "    predictions = np.squeeze(np.rint(new_model.predict(img_array))).astype('int')\n",
    "    print(\"label: {}, prediction:{}, time(s): {}\". format(label, predictions, toc))\n",
    "    counter+=predictions\n",
    "print(counter)"
   ]
  },
  {
   "cell_type": "code",
   "execution_count": 61,
   "id": "ceb60eb0",
   "metadata": {},
   "outputs": [
    {
     "data": {
      "text/plain": [
       "90.71428571428571"
      ]
     },
     "execution_count": 61,
     "metadata": {},
     "output_type": "execute_result"
    }
   ],
   "source": [
    "100-counter/len(img_filelist)*100"
   ]
  },
  {
   "cell_type": "code",
   "execution_count": 63,
   "id": "37dbfbda",
   "metadata": {},
   "outputs": [
    {
     "data": {
      "text/plain": [
       "87.14285714285714"
      ]
     },
     "execution_count": 63,
     "metadata": {},
     "output_type": "execute_result"
    }
   ],
   "source": [
    "100-len(filtered_df.loc[filtered_df.isWearMask==0].img_path.values)/len(img_filelist)*100"
   ]
  },
  {
   "cell_type": "code",
   "execution_count": 15,
   "id": "3aee7b7e",
   "metadata": {},
   "outputs": [
    {
     "data": {
      "text/plain": [
       "0.0392156862745098"
      ]
     },
     "execution_count": 15,
     "metadata": {},
     "output_type": "execute_result"
    }
   ],
   "source": [
    "2/51"
   ]
  },
  {
   "cell_type": "code",
   "execution_count": null,
   "id": "5061a3ef",
   "metadata": {},
   "outputs": [],
   "source": []
  }
 ],
 "metadata": {
  "kernelspec": {
   "display_name": "Python 3",
   "language": "python",
   "name": "python3"
  },
  "language_info": {
   "codemirror_mode": {
    "name": "ipython",
    "version": 3
   },
   "file_extension": ".py",
   "mimetype": "text/x-python",
   "name": "python",
   "nbconvert_exporter": "python",
   "pygments_lexer": "ipython3",
   "version": "3.8.8"
  }
 },
 "nbformat": 4,
 "nbformat_minor": 5
}
